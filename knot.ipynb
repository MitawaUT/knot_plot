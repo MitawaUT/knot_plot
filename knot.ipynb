{
 "cells": [
  {
   "cell_type": "code",
   "execution_count": 1,
   "metadata": {},
   "outputs": [
    {
     "data": {
      "text/html": [
       "        <script type=\"text/javascript\">\n",
       "        window.PlotlyConfig = {MathJaxConfig: 'local'};\n",
       "        if (window.MathJax) {MathJax.Hub.Config({SVG: {font: \"STIX-Web\"}});}\n",
       "        if (typeof require !== 'undefined') {\n",
       "        require.undef(\"plotly\");\n",
       "        requirejs.config({\n",
       "            paths: {\n",
       "                'plotly': ['https://cdn.plot.ly/plotly-latest.min']\n",
       "            }\n",
       "        });\n",
       "        require(['plotly'], function(Plotly) {\n",
       "            window._Plotly = Plotly;\n",
       "        });\n",
       "        }\n",
       "        </script>\n",
       "        "
      ]
     },
     "metadata": {},
     "output_type": "display_data"
    }
   ],
   "source": [
    "# import modules\n",
    "import plotly.offline as offline\n",
    "import plotly.graph_objs as go\n",
    "import numpy as np\n",
    "from ipywidgets import interactive, VBox, widgets\n",
    "from IPython.display import display\n",
    "\n",
    "offline.init_notebook_mode(connected=True)"
   ]
  },
  {
   "cell_type": "code",
   "execution_count": 2,
   "metadata": {},
   "outputs": [],
   "source": [
    "# functions\n",
    "def torus(p, t):\n",
    "    x = np.cos(p) * (3 + np.cos(t))\n",
    "    y = np.sin(p) * (3 + np.cos(t))\n",
    "    z = -np.sin(t)\n",
    "    return (x, y, z)\n",
    "\n",
    "def knot(n, m):\n",
    "    theta = np.linspace(-np.pi, np.pi, 1000)\n",
    "    p, t = n*theta, m*theta\n",
    "    return torus(p, t)"
   ]
  },
  {
   "cell_type": "code",
   "execution_count": 3,
   "metadata": {},
   "outputs": [
    {
     "data": {
      "application/vnd.jupyter.widget-view+json": {
       "model_id": "4608df9aaa7b4abd8d120bdef7e8b0e4",
       "version_major": 2,
       "version_minor": 0
      },
      "text/plain": [
       "VBox(children=(FigureWidget({\n",
       "    'data': [{'type': 'scatter3d', 'uid': 'd8403108-582a-4714-b677-baab0fcd5721'…"
      ]
     },
     "metadata": {},
     "output_type": "display_data"
    }
   ],
   "source": [
    "fig = go.FigureWidget()\n",
    "scatt = fig.add_scatter3d()\n",
    "\n",
    "def update(n=2, m=3):\n",
    "    with fig.batch_update():\n",
    "        (cx, cy, cz) = knot(n, m)\n",
    "        scatt.data[0].x=cx\n",
    "        scatt.data[0].y=cy\n",
    "        scatt.data[0].z=cz\n",
    "        scatt.data[0].mode='lines'\n",
    "        scatt.data[0].line=dict(\n",
    "                    width=10,\n",
    "                    color='green')\n",
    "\n",
    "vb = VBox((fig, interactive(update, n=(-10, 11, 1), m=(0, 10, 1))))\n",
    "display(vb)"
   ]
  },
  {
   "cell_type": "code",
   "execution_count": null,
   "metadata": {},
   "outputs": [],
   "source": []
  }
 ],
 "metadata": {
  "kernelspec": {
   "display_name": "Python 3",
   "language": "python",
   "name": "python3"
  },
  "language_info": {
   "codemirror_mode": {
    "name": "ipython",
    "version": 3
   },
   "file_extension": ".py",
   "mimetype": "text/x-python",
   "name": "python",
   "nbconvert_exporter": "python",
   "pygments_lexer": "ipython3",
   "version": "3.7.4"
  },
  "widgets": {
   "application/vnd.jupyter.widget-state+json": {
    "state": {
     "04a34a7a43c24d05ab0e4839c9049178": {
      "model_module": "@jupyter-widgets/base",
      "model_module_version": "1.2.0",
      "model_name": "LayoutModel",
      "state": {}
     },
     "1d30cc070fb247a9a1a3be50cff37f69": {
      "model_module": "@jupyter-widgets/base",
      "model_module_version": "1.2.0",
      "model_name": "LayoutModel",
      "state": {}
     },
     "2d9ad01f174846f1aadc9f7334e8e791": {
      "model_module": "@jupyter-widgets/base",
      "model_module_version": "1.2.0",
      "model_name": "LayoutModel",
      "state": {}
     },
     "4608df9aaa7b4abd8d120bdef7e8b0e4": {
      "model_module": "@jupyter-widgets/controls",
      "model_module_version": "1.5.0",
      "model_name": "VBoxModel",
      "state": {
       "children": [
        "IPY_MODEL_4d1a7efb4443449ea78ac3961696c315",
        "IPY_MODEL_b49923bf8b9e4f0c92032f5a736a693b"
       ],
       "layout": "IPY_MODEL_1d30cc070fb247a9a1a3be50cff37f69"
      }
     },
     "4bff66ece6db4b019e99ccaf62ca42e2": {
      "model_module": "@jupyter-widgets/controls",
      "model_module_version": "1.5.0",
      "model_name": "IntSliderModel",
      "state": {
       "description": "n",
       "layout": "IPY_MODEL_9f7a3a3059334740b7106df7a166931e",
       "max": 11,
       "min": -10,
       "style": "IPY_MODEL_89345d27412744ee879399bbc011445d",
       "value": 2
      }
     },
     "4d1a7efb4443449ea78ac3961696c315": {
      "buffers": [
       {
        "data": "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",
        "encoding": "base64",
        "path": [
         "_data",
         0,
         "x",
         "value"
        ]
       },
       {
        "data": "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",
        "encoding": "base64",
        "path": [
         "_data",
         0,
         "y",
         "value"
        ]
       },
       {
        "data": "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",
        "encoding": "base64",
        "path": [
         "_data",
         0,
         "z",
         "value"
        ]
       }
      ],
      "model_module": "plotlywidget",
      "model_module_version": "^1.4.0",
      "model_name": "FigureModel",
      "state": {
       "_config": {
        "plotlyServerURL": "https://plot.ly"
       },
       "_data": [
        {
         "line": {
          "color": "green",
          "width": 10
         },
         "mode": "lines",
         "type": "scatter3d",
         "uid": "d8403108-582a-4714-b677-baab0fcd5721",
         "x": {
          "dtype": "float64",
          "shape": [
           1000
          ]
         },
         "y": {
          "dtype": "float64",
          "shape": [
           1000
          ]
         },
         "z": {
          "dtype": "float64",
          "shape": [
           1000
          ]
         }
        }
       ],
       "_js2py_pointsCallback": {},
       "_js2py_restyle": {},
       "_js2py_update": {},
       "_last_layout_edit_id": 3,
       "_last_trace_edit_id": 2,
       "_layout": {
        "autosize": true,
        "template": {
         "data": {
          "bar": [
           {
            "error_x": {
             "color": "#2a3f5f"
            },
            "error_y": {
             "color": "#2a3f5f"
            },
            "marker": {
             "line": {
              "color": "#E5ECF6",
              "width": 0.5
             }
            },
            "type": "bar"
           }
          ],
          "barpolar": [
           {
            "marker": {
             "line": {
              "color": "#E5ECF6",
              "width": 0.5
             }
            },
            "type": "barpolar"
           }
          ],
          "carpet": [
           {
            "aaxis": {
             "endlinecolor": "#2a3f5f",
             "gridcolor": "white",
             "linecolor": "white",
             "minorgridcolor": "white",
             "startlinecolor": "#2a3f5f"
            },
            "baxis": {
             "endlinecolor": "#2a3f5f",
             "gridcolor": "white",
             "linecolor": "white",
             "minorgridcolor": "white",
             "startlinecolor": "#2a3f5f"
            },
            "type": "carpet"
           }
          ],
          "choropleth": [
           {
            "colorbar": {
             "outlinewidth": 0,
             "ticks": ""
            },
            "type": "choropleth"
           }
          ],
          "contour": [
           {
            "colorbar": {
             "outlinewidth": 0,
             "ticks": ""
            },
            "colorscale": [
             [
              0,
              "#0d0887"
             ],
             [
              0.1111111111111111,
              "#46039f"
             ],
             [
              0.2222222222222222,
              "#7201a8"
             ],
             [
              0.3333333333333333,
              "#9c179e"
             ],
             [
              0.4444444444444444,
              "#bd3786"
             ],
             [
              0.5555555555555556,
              "#d8576b"
             ],
             [
              0.6666666666666666,
              "#ed7953"
             ],
             [
              0.7777777777777778,
              "#fb9f3a"
             ],
             [
              0.8888888888888888,
              "#fdca26"
             ],
             [
              1,
              "#f0f921"
             ]
            ],
            "type": "contour"
           }
          ],
          "contourcarpet": [
           {
            "colorbar": {
             "outlinewidth": 0,
             "ticks": ""
            },
            "type": "contourcarpet"
           }
          ],
          "heatmap": [
           {
            "colorbar": {
             "outlinewidth": 0,
             "ticks": ""
            },
            "colorscale": [
             [
              0,
              "#0d0887"
             ],
             [
              0.1111111111111111,
              "#46039f"
             ],
             [
              0.2222222222222222,
              "#7201a8"
             ],
             [
              0.3333333333333333,
              "#9c179e"
             ],
             [
              0.4444444444444444,
              "#bd3786"
             ],
             [
              0.5555555555555556,
              "#d8576b"
             ],
             [
              0.6666666666666666,
              "#ed7953"
             ],
             [
              0.7777777777777778,
              "#fb9f3a"
             ],
             [
              0.8888888888888888,
              "#fdca26"
             ],
             [
              1,
              "#f0f921"
             ]
            ],
            "type": "heatmap"
           }
          ],
          "heatmapgl": [
           {
            "colorbar": {
             "outlinewidth": 0,
             "ticks": ""
            },
            "colorscale": [
             [
              0,
              "#0d0887"
             ],
             [
              0.1111111111111111,
              "#46039f"
             ],
             [
              0.2222222222222222,
              "#7201a8"
             ],
             [
              0.3333333333333333,
              "#9c179e"
             ],
             [
              0.4444444444444444,
              "#bd3786"
             ],
             [
              0.5555555555555556,
              "#d8576b"
             ],
             [
              0.6666666666666666,
              "#ed7953"
             ],
             [
              0.7777777777777778,
              "#fb9f3a"
             ],
             [
              0.8888888888888888,
              "#fdca26"
             ],
             [
              1,
              "#f0f921"
             ]
            ],
            "type": "heatmapgl"
           }
          ],
          "histogram": [
           {
            "marker": {
             "colorbar": {
              "outlinewidth": 0,
              "ticks": ""
             }
            },
            "type": "histogram"
           }
          ],
          "histogram2d": [
           {
            "colorbar": {
             "outlinewidth": 0,
             "ticks": ""
            },
            "colorscale": [
             [
              0,
              "#0d0887"
             ],
             [
              0.1111111111111111,
              "#46039f"
             ],
             [
              0.2222222222222222,
              "#7201a8"
             ],
             [
              0.3333333333333333,
              "#9c179e"
             ],
             [
              0.4444444444444444,
              "#bd3786"
             ],
             [
              0.5555555555555556,
              "#d8576b"
             ],
             [
              0.6666666666666666,
              "#ed7953"
             ],
             [
              0.7777777777777778,
              "#fb9f3a"
             ],
             [
              0.8888888888888888,
              "#fdca26"
             ],
             [
              1,
              "#f0f921"
             ]
            ],
            "type": "histogram2d"
           }
          ],
          "histogram2dcontour": [
           {
            "colorbar": {
             "outlinewidth": 0,
             "ticks": ""
            },
            "colorscale": [
             [
              0,
              "#0d0887"
             ],
             [
              0.1111111111111111,
              "#46039f"
             ],
             [
              0.2222222222222222,
              "#7201a8"
             ],
             [
              0.3333333333333333,
              "#9c179e"
             ],
             [
              0.4444444444444444,
              "#bd3786"
             ],
             [
              0.5555555555555556,
              "#d8576b"
             ],
             [
              0.6666666666666666,
              "#ed7953"
             ],
             [
              0.7777777777777778,
              "#fb9f3a"
             ],
             [
              0.8888888888888888,
              "#fdca26"
             ],
             [
              1,
              "#f0f921"
             ]
            ],
            "type": "histogram2dcontour"
           }
          ],
          "mesh3d": [
           {
            "colorbar": {
             "outlinewidth": 0,
             "ticks": ""
            },
            "type": "mesh3d"
           }
          ],
          "parcoords": [
           {
            "line": {
             "colorbar": {
              "outlinewidth": 0,
              "ticks": ""
             }
            },
            "type": "parcoords"
           }
          ],
          "pie": [
           {
            "automargin": true,
            "type": "pie"
           }
          ],
          "scatter": [
           {
            "marker": {
             "colorbar": {
              "outlinewidth": 0,
              "ticks": ""
             }
            },
            "type": "scatter"
           }
          ],
          "scatter3d": [
           {
            "line": {
             "colorbar": {
              "outlinewidth": 0,
              "ticks": ""
             }
            },
            "marker": {
             "colorbar": {
              "outlinewidth": 0,
              "ticks": ""
             }
            },
            "type": "scatter3d"
           }
          ],
          "scattercarpet": [
           {
            "marker": {
             "colorbar": {
              "outlinewidth": 0,
              "ticks": ""
             }
            },
            "type": "scattercarpet"
           }
          ],
          "scattergeo": [
           {
            "marker": {
             "colorbar": {
              "outlinewidth": 0,
              "ticks": ""
             }
            },
            "type": "scattergeo"
           }
          ],
          "scattergl": [
           {
            "marker": {
             "colorbar": {
              "outlinewidth": 0,
              "ticks": ""
             }
            },
            "type": "scattergl"
           }
          ],
          "scattermapbox": [
           {
            "marker": {
             "colorbar": {
              "outlinewidth": 0,
              "ticks": ""
             }
            },
            "type": "scattermapbox"
           }
          ],
          "scatterpolar": [
           {
            "marker": {
             "colorbar": {
              "outlinewidth": 0,
              "ticks": ""
             }
            },
            "type": "scatterpolar"
           }
          ],
          "scatterpolargl": [
           {
            "marker": {
             "colorbar": {
              "outlinewidth": 0,
              "ticks": ""
             }
            },
            "type": "scatterpolargl"
           }
          ],
          "scatterternary": [
           {
            "marker": {
             "colorbar": {
              "outlinewidth": 0,
              "ticks": ""
             }
            },
            "type": "scatterternary"
           }
          ],
          "surface": [
           {
            "colorbar": {
             "outlinewidth": 0,
             "ticks": ""
            },
            "colorscale": [
             [
              0,
              "#0d0887"
             ],
             [
              0.1111111111111111,
              "#46039f"
             ],
             [
              0.2222222222222222,
              "#7201a8"
             ],
             [
              0.3333333333333333,
              "#9c179e"
             ],
             [
              0.4444444444444444,
              "#bd3786"
             ],
             [
              0.5555555555555556,
              "#d8576b"
             ],
             [
              0.6666666666666666,
              "#ed7953"
             ],
             [
              0.7777777777777778,
              "#fb9f3a"
             ],
             [
              0.8888888888888888,
              "#fdca26"
             ],
             [
              1,
              "#f0f921"
             ]
            ],
            "type": "surface"
           }
          ],
          "table": [
           {
            "cells": {
             "fill": {
              "color": "#EBF0F8"
             },
             "line": {
              "color": "white"
             }
            },
            "header": {
             "fill": {
              "color": "#C8D4E3"
             },
             "line": {
              "color": "white"
             }
            },
            "type": "table"
           }
          ]
         },
         "layout": {
          "annotationdefaults": {
           "arrowcolor": "#2a3f5f",
           "arrowhead": 0,
           "arrowwidth": 1
          },
          "coloraxis": {
           "colorbar": {
            "outlinewidth": 0,
            "ticks": ""
           }
          },
          "colorscale": {
           "diverging": [
            [
             0,
             "#8e0152"
            ],
            [
             0.1,
             "#c51b7d"
            ],
            [
             0.2,
             "#de77ae"
            ],
            [
             0.3,
             "#f1b6da"
            ],
            [
             0.4,
             "#fde0ef"
            ],
            [
             0.5,
             "#f7f7f7"
            ],
            [
             0.6,
             "#e6f5d0"
            ],
            [
             0.7,
             "#b8e186"
            ],
            [
             0.8,
             "#7fbc41"
            ],
            [
             0.9,
             "#4d9221"
            ],
            [
             1,
             "#276419"
            ]
           ],
           "sequential": [
            [
             0,
             "#0d0887"
            ],
            [
             0.1111111111111111,
             "#46039f"
            ],
            [
             0.2222222222222222,
             "#7201a8"
            ],
            [
             0.3333333333333333,
             "#9c179e"
            ],
            [
             0.4444444444444444,
             "#bd3786"
            ],
            [
             0.5555555555555556,
             "#d8576b"
            ],
            [
             0.6666666666666666,
             "#ed7953"
            ],
            [
             0.7777777777777778,
             "#fb9f3a"
            ],
            [
             0.8888888888888888,
             "#fdca26"
            ],
            [
             1,
             "#f0f921"
            ]
           ],
           "sequentialminus": [
            [
             0,
             "#0d0887"
            ],
            [
             0.1111111111111111,
             "#46039f"
            ],
            [
             0.2222222222222222,
             "#7201a8"
            ],
            [
             0.3333333333333333,
             "#9c179e"
            ],
            [
             0.4444444444444444,
             "#bd3786"
            ],
            [
             0.5555555555555556,
             "#d8576b"
            ],
            [
             0.6666666666666666,
             "#ed7953"
            ],
            [
             0.7777777777777778,
             "#fb9f3a"
            ],
            [
             0.8888888888888888,
             "#fdca26"
            ],
            [
             1,
             "#f0f921"
            ]
           ]
          },
          "colorway": [
           "#636efa",
           "#EF553B",
           "#00cc96",
           "#ab63fa",
           "#FFA15A",
           "#19d3f3",
           "#FF6692",
           "#B6E880",
           "#FF97FF",
           "#FECB52"
          ],
          "font": {
           "color": "#2a3f5f"
          },
          "geo": {
           "bgcolor": "white",
           "lakecolor": "white",
           "landcolor": "#E5ECF6",
           "showlakes": true,
           "showland": true,
           "subunitcolor": "white"
          },
          "hoverlabel": {
           "align": "left"
          },
          "hovermode": "closest",
          "mapbox": {
           "style": "light"
          },
          "paper_bgcolor": "white",
          "plot_bgcolor": "#E5ECF6",
          "polar": {
           "angularaxis": {
            "gridcolor": "white",
            "linecolor": "white",
            "ticks": ""
           },
           "bgcolor": "#E5ECF6",
           "radialaxis": {
            "gridcolor": "white",
            "linecolor": "white",
            "ticks": ""
           }
          },
          "scene": {
           "xaxis": {
            "backgroundcolor": "#E5ECF6",
            "gridcolor": "white",
            "gridwidth": 2,
            "linecolor": "white",
            "showbackground": true,
            "ticks": "",
            "zerolinecolor": "white"
           },
           "yaxis": {
            "backgroundcolor": "#E5ECF6",
            "gridcolor": "white",
            "gridwidth": 2,
            "linecolor": "white",
            "showbackground": true,
            "ticks": "",
            "zerolinecolor": "white"
           },
           "zaxis": {
            "backgroundcolor": "#E5ECF6",
            "gridcolor": "white",
            "gridwidth": 2,
            "linecolor": "white",
            "showbackground": true,
            "ticks": "",
            "zerolinecolor": "white"
           }
          },
          "shapedefaults": {
           "line": {
            "color": "#2a3f5f"
           }
          },
          "ternary": {
           "aaxis": {
            "gridcolor": "white",
            "linecolor": "white",
            "ticks": ""
           },
           "baxis": {
            "gridcolor": "white",
            "linecolor": "white",
            "ticks": ""
           },
           "bgcolor": "#E5ECF6",
           "caxis": {
            "gridcolor": "white",
            "linecolor": "white",
            "ticks": ""
           }
          },
          "title": {
           "x": 0.05
          },
          "xaxis": {
           "automargin": true,
           "gridcolor": "white",
           "linecolor": "white",
           "ticks": "",
           "title": {
            "standoff": 15
           },
           "zerolinecolor": "white",
           "zerolinewidth": 2
          },
          "yaxis": {
           "automargin": true,
           "gridcolor": "white",
           "linecolor": "white",
           "ticks": "",
           "title": {
            "standoff": 15
           },
           "zerolinecolor": "white",
           "zerolinewidth": 2
          }
         }
        }
       },
       "_py2js_animate": {},
       "_py2js_deleteTraces": {},
       "_py2js_moveTraces": {},
       "_py2js_removeLayoutProps": {},
       "_py2js_removeTraceProps": {},
       "_py2js_restyle": {},
       "_view_count": 1
      }
     },
     "558881487bc94810afd9eacf2a2c9a84": {
      "model_module": "@jupyter-widgets/output",
      "model_module_version": "1.0.0",
      "model_name": "OutputModel",
      "state": {
       "layout": "IPY_MODEL_2d9ad01f174846f1aadc9f7334e8e791"
      }
     },
     "6bf35ae600c54fe8b10fddea967c3cdf": {
      "model_module": "@jupyter-widgets/controls",
      "model_module_version": "1.5.0",
      "model_name": "SliderStyleModel",
      "state": {
       "description_width": ""
      }
     },
     "89345d27412744ee879399bbc011445d": {
      "model_module": "@jupyter-widgets/controls",
      "model_module_version": "1.5.0",
      "model_name": "SliderStyleModel",
      "state": {
       "description_width": ""
      }
     },
     "977525ab0a8342de9280259a3ffb7c07": {
      "model_module": "@jupyter-widgets/controls",
      "model_module_version": "1.5.0",
      "model_name": "IntSliderModel",
      "state": {
       "description": "m",
       "layout": "IPY_MODEL_ba6ee61486d14916bfb3c83134035449",
       "max": 10,
       "style": "IPY_MODEL_6bf35ae600c54fe8b10fddea967c3cdf",
       "value": 3
      }
     },
     "9f7a3a3059334740b7106df7a166931e": {
      "model_module": "@jupyter-widgets/base",
      "model_module_version": "1.2.0",
      "model_name": "LayoutModel",
      "state": {}
     },
     "b49923bf8b9e4f0c92032f5a736a693b": {
      "model_module": "@jupyter-widgets/controls",
      "model_module_version": "1.5.0",
      "model_name": "VBoxModel",
      "state": {
       "_dom_classes": [
        "widget-interact"
       ],
       "children": [
        "IPY_MODEL_4bff66ece6db4b019e99ccaf62ca42e2",
        "IPY_MODEL_977525ab0a8342de9280259a3ffb7c07",
        "IPY_MODEL_558881487bc94810afd9eacf2a2c9a84"
       ],
       "layout": "IPY_MODEL_04a34a7a43c24d05ab0e4839c9049178"
      }
     },
     "ba6ee61486d14916bfb3c83134035449": {
      "model_module": "@jupyter-widgets/base",
      "model_module_version": "1.2.0",
      "model_name": "LayoutModel",
      "state": {}
     }
    },
    "version_major": 2,
    "version_minor": 0
   }
  }
 },
 "nbformat": 4,
 "nbformat_minor": 4
}
